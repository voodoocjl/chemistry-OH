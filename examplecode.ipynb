{
  "cells": [
    {
      "cell_type": "markdown",
      "metadata": {
        "id": "gj3jZbCBSn71"
      },
      "source": [
        "# Example Code for Estimating the Ground State Energy of Hydroxyl (·OH)"
      ]
    },
    {
      "cell_type": "markdown",
      "metadata": {
        "id": "54NH9S1vHrq8"
      },
      "source": [
        "## Basic Installation"
      ]
    },
    {
      "cell_type": "markdown",
      "metadata": {
        "id": "R0OZ3HZZS9Me"
      },
      "source": [
        "Install required package, we highly recommend participant to use qiskit platform, or at least participants can finish preprocessing at other platform and transfer the circuit to qiskit format, since our noise model is from IBM real machine backend and we restricted some algorithmic seeds which could be varied from different platform."
      ]
    },
    {
      "cell_type": "code",
      "execution_count": null,
      "metadata": {
        "colab": {
          "base_uri": "https://localhost:8080/"
        },
        "id": "Pi-oJxidjBSw",
        "outputId": "d23754fa-04a2-4afc-fce2-cc4d90db62d4"
      },
      "outputs": [
        {
          "name": "stdout",
          "output_type": "stream",
          "text": [
            "Collecting qiskit\n",
            "  Downloading qiskit-0.44.1-py3-none-any.whl (8.2 kB)\n",
            "Collecting qiskit-terra==0.25.1 (from qiskit)\n",
            "  Downloading qiskit_terra-0.25.1-cp38-abi3-manylinux_2_17_x86_64.manylinux2014_x86_64.whl (6.1 MB)\n",
            "\u001b[2K     \u001b[90m━━━━━━━━━━━━━━━━━━━━━━━━━━━━━━━━━━━━━━━━\u001b[0m \u001b[32m6.1/6.1 MB\u001b[0m \u001b[31m12.8 MB/s\u001b[0m eta \u001b[36m0:00:00\u001b[0m\n",
            "\u001b[?25hCollecting rustworkx>=0.13.0 (from qiskit-terra==0.25.1->qiskit)\n",
            "  Downloading rustworkx-0.13.1-cp310-cp310-manylinux_2_17_x86_64.manylinux2014_x86_64.whl (2.0 MB)\n",
            "\u001b[2K     \u001b[90m━━━━━━━━━━━━━━━━━━━━━━━━━━━━━━━━━━━━━━━━\u001b[0m \u001b[32m2.0/2.0 MB\u001b[0m \u001b[31m26.9 MB/s\u001b[0m eta \u001b[36m0:00:00\u001b[0m\n",
            "\u001b[?25hRequirement already satisfied: numpy>=1.17 in /usr/local/lib/python3.10/dist-packages (from qiskit-terra==0.25.1->qiskit) (1.23.5)\n",
            "Collecting ply>=3.10 (from qiskit-terra==0.25.1->qiskit)\n",
            "  Downloading ply-3.11-py2.py3-none-any.whl (49 kB)\n",
            "\u001b[2K     \u001b[90m━━━━━━━━━━━━━━━━━━━━━━━━━━━━━━━━━━━━━━━━\u001b[0m \u001b[32m49.6/49.6 kB\u001b[0m \u001b[31m5.4 MB/s\u001b[0m eta \u001b[36m0:00:00\u001b[0m\n",
            "\u001b[?25hRequirement already satisfied: psutil>=5 in /usr/local/lib/python3.10/dist-packages (from qiskit-terra==0.25.1->qiskit) (5.9.5)\n",
            "Requirement already satisfied: scipy>=1.5 in /usr/local/lib/python3.10/dist-packages (from qiskit-terra==0.25.1->qiskit) (1.10.1)\n",
            "Requirement already satisfied: sympy>=1.3 in /usr/local/lib/python3.10/dist-packages (from qiskit-terra==0.25.1->qiskit) (1.12)\n",
            "Collecting dill>=0.3 (from qiskit-terra==0.25.1->qiskit)\n",
            "  Downloading dill-0.3.7-py3-none-any.whl (115 kB)\n",
            "\u001b[2K     \u001b[90m━━━━━━━━━━━━━━━━━━━━━━━━━━━━━━━━━━━━━━\u001b[0m \u001b[32m115.3/115.3 kB\u001b[0m \u001b[31m12.6 MB/s\u001b[0m eta \u001b[36m0:00:00\u001b[0m\n",
            "\u001b[?25hRequirement already satisfied: python-dateutil>=2.8.0 in /usr/local/lib/python3.10/dist-packages (from qiskit-terra==0.25.1->qiskit) (2.8.2)\n",
            "Collecting stevedore>=3.0.0 (from qiskit-terra==0.25.1->qiskit)\n",
            "  Downloading stevedore-5.1.0-py3-none-any.whl (49 kB)\n",
            "\u001b[2K     \u001b[90m━━━━━━━━━━━━━━━━━━━━━━━━━━━━━━━━━━━━━━━━\u001b[0m \u001b[32m49.6/49.6 kB\u001b[0m \u001b[31m4.7 MB/s\u001b[0m eta \u001b[36m0:00:00\u001b[0m\n",
            "\u001b[?25hCollecting symengine<0.10,>=0.9 (from qiskit-terra==0.25.1->qiskit)\n",
            "  Downloading symengine-0.9.2-cp310-cp310-manylinux2010_x86_64.whl (37.5 MB)\n",
            "\u001b[2K     \u001b[90m━━━━━━━━━━━━━━━━━━━━━━━━━━━━━━━━━━━━━━━━\u001b[0m \u001b[32m37.5/37.5 MB\u001b[0m \u001b[31m40.6 MB/s\u001b[0m eta \u001b[36m0:00:00\u001b[0m\n",
            "\u001b[?25hRequirement already satisfied: typing-extensions in /usr/local/lib/python3.10/dist-packages (from qiskit-terra==0.25.1->qiskit) (4.7.1)\n",
            "Requirement already satisfied: six>=1.5 in /usr/local/lib/python3.10/dist-packages (from python-dateutil>=2.8.0->qiskit-terra==0.25.1->qiskit) (1.16.0)\n",
            "Collecting pbr!=2.1.0,>=2.0.0 (from stevedore>=3.0.0->qiskit-terra==0.25.1->qiskit)\n",
            "  Downloading pbr-5.11.1-py2.py3-none-any.whl (112 kB)\n",
            "\u001b[2K     \u001b[90m━━━━━━━━━━━━━━━━━━━━━━━━━━━━━━━━━━━━━━\u001b[0m \u001b[32m112.7/112.7 kB\u001b[0m \u001b[31m12.2 MB/s\u001b[0m eta \u001b[36m0:00:00\u001b[0m\n",
            "\u001b[?25hRequirement already satisfied: mpmath>=0.19 in /usr/local/lib/python3.10/dist-packages (from sympy>=1.3->qiskit-terra==0.25.1->qiskit) (1.3.0)\n",
            "Installing collected packages: ply, symengine, rustworkx, pbr, dill, stevedore, qiskit-terra, qiskit\n",
            "Successfully installed dill-0.3.7 pbr-5.11.1 ply-3.11 qiskit-0.44.1 qiskit-terra-0.25.1 rustworkx-0.13.1 stevedore-5.1.0 symengine-0.9.2\n",
            "Collecting qiskit-nature[pyscf]\n",
            "  Downloading qiskit_nature-0.6.2-py3-none-any.whl (4.1 MB)\n",
            "\u001b[2K     \u001b[90m━━━━━━━━━━━━━━━━━━━━━━━━━━━━━━━━━━━━━━━━\u001b[0m \u001b[32m4.1/4.1 MB\u001b[0m \u001b[31m12.1 MB/s\u001b[0m eta \u001b[36m0:00:00\u001b[0m\n",
            "\u001b[?25hRequirement already satisfied: qiskit-terra>=0.24 in /usr/local/lib/python3.10/dist-packages (from qiskit-nature[pyscf]) (0.25.1)\n",
            "Requirement already satisfied: scipy>=1.4 in /usr/local/lib/python3.10/dist-packages (from qiskit-nature[pyscf]) (1.10.1)\n",
            "Requirement already satisfied: numpy>=1.17 in /usr/local/lib/python3.10/dist-packages (from qiskit-nature[pyscf]) (1.23.5)\n",
            "Requirement already satisfied: psutil>=5 in /usr/local/lib/python3.10/dist-packages (from qiskit-nature[pyscf]) (5.9.5)\n",
            "Requirement already satisfied: scikit-learn>=0.20.0 in /usr/local/lib/python3.10/dist-packages (from qiskit-nature[pyscf]) (1.2.2)\n",
            "Requirement already satisfied: setuptools>=40.1.0 in /usr/local/lib/python3.10/dist-packages (from qiskit-nature[pyscf]) (67.7.2)\n",
            "Requirement already satisfied: typing-extensions in /usr/local/lib/python3.10/dist-packages (from qiskit-nature[pyscf]) (4.7.1)\n",
            "Requirement already satisfied: h5py in /usr/local/lib/python3.10/dist-packages (from qiskit-nature[pyscf]) (3.9.0)\n",
            "Requirement already satisfied: rustworkx in /usr/local/lib/python3.10/dist-packages (from qiskit-nature[pyscf]) (0.13.1)\n",
            "Collecting pyscf (from qiskit-nature[pyscf])\n",
            "  Downloading pyscf-2.3.0-cp310-cp310-manylinux_2_17_x86_64.manylinux2014_x86_64.whl (47.2 MB)\n",
            "\u001b[2K     \u001b[90m━━━━━━━━━━━━━━━━━━━━━━━━━━━━━━━━━━━━━━━━\u001b[0m \u001b[32m47.2/47.2 MB\u001b[0m \u001b[31m10.1 MB/s\u001b[0m eta \u001b[36m0:00:00\u001b[0m\n",
            "\u001b[?25hRequirement already satisfied: ply>=3.10 in /usr/local/lib/python3.10/dist-packages (from qiskit-terra>=0.24->qiskit-nature[pyscf]) (3.11)\n",
            "Requirement already satisfied: sympy>=1.3 in /usr/local/lib/python3.10/dist-packages (from qiskit-terra>=0.24->qiskit-nature[pyscf]) (1.12)\n",
            "Requirement already satisfied: dill>=0.3 in /usr/local/lib/python3.10/dist-packages (from qiskit-terra>=0.24->qiskit-nature[pyscf]) (0.3.7)\n",
            "Requirement already satisfied: python-dateutil>=2.8.0 in /usr/local/lib/python3.10/dist-packages (from qiskit-terra>=0.24->qiskit-nature[pyscf]) (2.8.2)\n",
            "Requirement already satisfied: stevedore>=3.0.0 in /usr/local/lib/python3.10/dist-packages (from qiskit-terra>=0.24->qiskit-nature[pyscf]) (5.1.0)\n",
            "Requirement already satisfied: symengine<0.10,>=0.9 in /usr/local/lib/python3.10/dist-packages (from qiskit-terra>=0.24->qiskit-nature[pyscf]) (0.9.2)\n",
            "Requirement already satisfied: joblib>=1.1.1 in /usr/local/lib/python3.10/dist-packages (from scikit-learn>=0.20.0->qiskit-nature[pyscf]) (1.3.2)\n",
            "Requirement already satisfied: threadpoolctl>=2.0.0 in /usr/local/lib/python3.10/dist-packages (from scikit-learn>=0.20.0->qiskit-nature[pyscf]) (3.2.0)\n",
            "Requirement already satisfied: six>=1.5 in /usr/local/lib/python3.10/dist-packages (from python-dateutil>=2.8.0->qiskit-terra>=0.24->qiskit-nature[pyscf]) (1.16.0)\n",
            "Requirement already satisfied: pbr!=2.1.0,>=2.0.0 in /usr/local/lib/python3.10/dist-packages (from stevedore>=3.0.0->qiskit-terra>=0.24->qiskit-nature[pyscf]) (5.11.1)\n",
            "Requirement already satisfied: mpmath>=0.19 in /usr/local/lib/python3.10/dist-packages (from sympy>=1.3->qiskit-terra>=0.24->qiskit-nature[pyscf]) (1.3.0)\n",
            "Installing collected packages: pyscf, qiskit-nature\n",
            "Successfully installed pyscf-2.3.0 qiskit-nature-0.6.2\n"
          ]
        }
      ],
      "source": [
        "!pip install qiskit\n",
        "!pip install qiskit-nature[pyscf] -U"
      ]
    },
    {
      "cell_type": "code",
      "execution_count": null,
      "metadata": {
        "colab": {
          "base_uri": "https://localhost:8080/"
        },
        "id": "-kyJUxyJzk_k",
        "outputId": "153f1581-81d4-43b0-d14e-40f75cd99e39"
      },
      "outputs": [
        {
          "name": "stdout",
          "output_type": "stream",
          "text": [
            "Collecting qiskit_aer\n",
            "  Downloading qiskit_aer-0.12.2-cp310-cp310-manylinux_2_17_x86_64.manylinux2014_x86_64.whl (12.8 MB)\n",
            "\u001b[2K     \u001b[90m━━━━━━━━━━━━━━━━━━━━━━━━━━━━━━━━━━━━━━━━\u001b[0m \u001b[32m12.8/12.8 MB\u001b[0m \u001b[31m6.8 MB/s\u001b[0m eta \u001b[36m0:00:00\u001b[0m\n",
            "\u001b[?25hRequirement already satisfied: qiskit-terra>=0.21.0 in /usr/local/lib/python3.10/dist-packages (from qiskit_aer) (0.25.1)\n",
            "Requirement already satisfied: numpy>=1.16.3 in /usr/local/lib/python3.10/dist-packages (from qiskit_aer) (1.23.5)\n",
            "Requirement already satisfied: scipy>=1.0 in /usr/local/lib/python3.10/dist-packages (from qiskit_aer) (1.10.1)\n",
            "Requirement already satisfied: rustworkx>=0.13.0 in /usr/local/lib/python3.10/dist-packages (from qiskit-terra>=0.21.0->qiskit_aer) (0.13.1)\n",
            "Requirement already satisfied: ply>=3.10 in /usr/local/lib/python3.10/dist-packages (from qiskit-terra>=0.21.0->qiskit_aer) (3.11)\n",
            "Requirement already satisfied: psutil>=5 in /usr/local/lib/python3.10/dist-packages (from qiskit-terra>=0.21.0->qiskit_aer) (5.9.5)\n",
            "Requirement already satisfied: sympy>=1.3 in /usr/local/lib/python3.10/dist-packages (from qiskit-terra>=0.21.0->qiskit_aer) (1.12)\n",
            "Requirement already satisfied: dill>=0.3 in /usr/local/lib/python3.10/dist-packages (from qiskit-terra>=0.21.0->qiskit_aer) (0.3.7)\n",
            "Requirement already satisfied: python-dateutil>=2.8.0 in /usr/local/lib/python3.10/dist-packages (from qiskit-terra>=0.21.0->qiskit_aer) (2.8.2)\n",
            "Requirement already satisfied: stevedore>=3.0.0 in /usr/local/lib/python3.10/dist-packages (from qiskit-terra>=0.21.0->qiskit_aer) (5.1.0)\n",
            "Requirement already satisfied: symengine<0.10,>=0.9 in /usr/local/lib/python3.10/dist-packages (from qiskit-terra>=0.21.0->qiskit_aer) (0.9.2)\n",
            "Requirement already satisfied: typing-extensions in /usr/local/lib/python3.10/dist-packages (from qiskit-terra>=0.21.0->qiskit_aer) (4.7.1)\n",
            "Requirement already satisfied: six>=1.5 in /usr/local/lib/python3.10/dist-packages (from python-dateutil>=2.8.0->qiskit-terra>=0.21.0->qiskit_aer) (1.16.0)\n",
            "Requirement already satisfied: pbr!=2.1.0,>=2.0.0 in /usr/local/lib/python3.10/dist-packages (from stevedore>=3.0.0->qiskit-terra>=0.21.0->qiskit_aer) (5.11.1)\n",
            "Requirement already satisfied: mpmath>=0.19 in /usr/local/lib/python3.10/dist-packages (from sympy>=1.3->qiskit-terra>=0.21.0->qiskit_aer) (1.3.0)\n",
            "Installing collected packages: qiskit_aer\n",
            "Successfully installed qiskit_aer-0.12.2\n"
          ]
        }
      ],
      "source": [
        "!pip install qiskit_aer"
      ]
    },
    {
      "cell_type": "code",
      "execution_count": null,
      "metadata": {
        "id": "Ib7BjPjxvJNk"
      },
      "outputs": [],
      "source": [
        "from qiskit_nature.units import DistanceUnit\n",
        "from qiskit_nature.second_q.drivers import PySCFDriver\n",
        "from qiskit_nature.second_q.mappers import JordanWignerMapper,ParityMapper,QubitConverter\n",
        "from qiskit.algorithms.minimum_eigensolvers import VQE\n",
        "from qiskit.algorithms.optimizers import SLSQP\n",
        "from qiskit_aer.primitives import Estimator\n",
        "from qiskit_nature.second_q.circuit.library import HartreeFock, UCCSD\n",
        "import numpy as np\n",
        "import pylab\n",
        "import qiskit.providers\n",
        "from qiskit import Aer,pulse, QuantumCircuit\n",
        "from qiskit.utils import QuantumInstance, algorithm_globals\n",
        "import time"
      ]
    },
    {
      "cell_type": "markdown",
      "metadata": {
        "id": "QRxsKX9zTc9g"
      },
      "source": [
        "Here we require paticipants to fix the algorithm seed in qiskit. MUST translate other format circuit to qiskit before any place need algorithm seed. And we give 20, 21, 30, 33, 36, 42, 43, 55, 67, 170 as set of seeds to test results on your side, and the result will be calculated as the average of results from some of those seeds with some hidden seeds. And please use shots as 6000."
      ]
    },
    {
      "cell_type": "code",
      "execution_count": null,
      "metadata": {
        "id": "_z5kT9vNSWus"
      },
      "outputs": [],
      "source": [
        "seeds = 170\n",
        "algorithm_globals.random_seed = seeds\n",
        "seed_transpiler = seeds\n",
        "iterations = 125\n",
        "shot = 6000"
      ]
    },
    {
      "cell_type": "markdown",
      "metadata": {
        "id": "67IPjEJPJAWk"
      },
      "source": [
        "## Generate Hamiltonian and Pauli String"
      ]
    },
    {
      "cell_type": "markdown",
      "metadata": {
        "id": "7TljW2BrJKHC"
      },
      "source": [
        "At this step, the example code uses PySCF to generate the hamiltonian of hydroxyl with basis function as 'sto3g' to fit the spin orbital, then uses JordanWignerMapper to map the fermionic terms to pauli strings. To be noticed, other chemistry tool also allowed to be used at this step, but keep in mind to use 'sto-3g' and Jordan Wigner Mapper which should gives 12 qubits and 631 paulil terms."
      ]
    },
    {
      "cell_type": "code",
      "execution_count": null,
      "metadata": {
        "id": "kXSoiGtopCRX"
      },
      "outputs": [],
      "source": [
        "ultra_simplified_ala_string = \"\"\"\n",
        "O 0.0 0.0 0.0\n",
        "H 0.45 -0.1525 -0.8454\n",
        "\"\"\"\n",
        "\n",
        "driver = PySCFDriver(\n",
        "    atom=ultra_simplified_ala_string.strip(),\n",
        "    basis='sto3g',\n",
        "    charge=1,\n",
        "    spin=0,\n",
        "    unit=DistanceUnit.ANGSTROM\n",
        ")\n",
        "qmolecule = driver.run()"
      ]
    },
    {
      "cell_type": "code",
      "execution_count": null,
      "metadata": {
        "colab": {
          "base_uri": "https://localhost:8080/"
        },
        "id": "ojwVkSeRwTH4",
        "outputId": "127b9320-1734-4c77-e753-677181892158"
      },
      "outputs": [
        {
          "name": "stdout",
          "output_type": "stream",
          "text": [
            "Polynomial Tensor\n",
            " \"+-\":\n",
            "[[-3.21461222e+01  5.59899100e-01  1.87617178e-01 -8.82935672e-16\n",
            "   5.24041109e-16 -1.94702445e-01]\n",
            " [ 5.59899100e-01 -7.35898345e+00 -2.46352634e-01  1.62827403e-15\n",
            "  -6.24537640e-16  9.51226718e-01]\n",
            " [ 1.87617178e-01 -2.46352634e-01 -6.56995119e+00 -2.60483168e-15\n",
            "   3.30435485e-15 -1.09726793e+00]\n",
            " [-8.81884087e-16  1.65690925e-15 -2.62384089e-15 -6.94886145e+00\n",
            "  -5.91762610e-16  6.31170002e-15]\n",
            " [ 5.24315261e-16 -8.02073589e-16  2.84157066e-15 -6.38131808e-16\n",
            "  -6.94886145e+00 -2.17814296e-15]\n",
            " [-1.94702445e-01  9.51226718e-01 -1.09726793e+00  6.25309946e-15\n",
            "  -1.88022334e-15 -4.64967973e+00]]\n",
            " \"++--\":\n",
            "[[[[ 4.74977044e+00 -4.38465691e-01 -1.51436760e-01  7.24476990e-16\n",
            "    -3.88796601e-16  1.59790984e-01]\n",
            "   [-4.38465691e-01  6.47204045e-02  1.84429506e-02 -9.30841809e-17\n",
            "     5.68926263e-17 -2.66865302e-02]\n",
            "   [-1.51436760e-01  1.84429506e-02  2.46189939e-02  1.21320840e-17\n",
            "    -1.54173925e-17  6.40512562e-03]\n",
            "   [ 7.24430816e-16 -9.31221507e-17  1.19056319e-17  2.58536922e-02\n",
            "     2.21988241e-18 -3.64428746e-17]\n",
            "   [-3.88404794e-16  5.67051397e-17 -1.82724467e-17  2.27176144e-18\n",
            "     2.58536922e-02  1.05122911e-17]\n",
            "   [ 1.59790984e-01 -2.66865302e-02  6.40512562e-03 -3.57499158e-17\n",
            "     1.09506345e-17  2.11708054e-02]]\n",
            "\n",
            "  [[-4.38465691e-01  6.47204045e-02  1.84429506e-02 -9.31504069e-17\n",
            "     5.66192888e-17 -2.66865302e-02]\n",
            "   [ 1.06368185e+00 -1.50469869e-02 -1.72330627e-02  7.02052427e-17\n",
            "    -1.73646258e-17 -2.69295995e-03]\n",
            "   [ 8.78369520e-02 -9.36020789e-03  2.16452114e-02  6.34579252e-17\n",
            "    -4.90114501e-17  2.03747148e-02]\n",
            "   [-5.48150348e-16  4.23608673e-17  6.28083358e-17  3.38081759e-02\n",
            "     2.88216658e-18 -1.09069051e-16]\n",
            "   [ 3.66496402e-16 -1.78748680e-17 -4.33447936e-17  2.90305637e-18\n",
            "     3.38081759e-02  5.47633575e-17]\n",
            "   [-2.42118626e-01  4.54101197e-03  1.65509332e-02 -8.74434055e-17\n",
            "     4.82372795e-17  8.74204002e-03]]\n",
            "\n",
            "  [[-1.51436760e-01  1.84429506e-02  2.46189939e-02  1.23773822e-17\n",
            "    -1.42337373e-17  6.40512562e-03]\n",
            "   [ 8.78369520e-02 -9.36020789e-03  2.16452114e-02  6.37202600e-17\n",
            "    -4.92278725e-17  2.03747148e-02]\n",
            "   [ 9.90974245e-01 -1.31679803e-02  8.70090353e-03  6.90528257e-17\n",
            "    -4.35665755e-17  1.41651559e-02]\n",
            "   [ 7.92260256e-16 -3.35131299e-18 -4.70973204e-18  1.12083197e-02\n",
            "     7.42438741e-19 -4.81922837e-17]\n",
            "   [-8.27130721e-16  1.60787927e-17 -5.70933205e-18  1.21020955e-18\n",
            "     1.12083197e-02  2.98183089e-17]\n",
            "   [ 2.65843254e-01 -5.34487452e-03  2.07171914e-03 -6.37236038e-17\n",
            "     3.05883726e-17  4.81053325e-03]]\n",
            "\n",
            "  [[ 7.24571403e-16 -9.30202783e-17  1.18272195e-17  2.58536922e-02\n",
            "     1.69759213e-18 -3.65737995e-17]\n",
            "   [-5.39239603e-16  4.31393160e-17  6.37130672e-17  3.38081759e-02\n",
            "     2.18338891e-18 -1.09303631e-16]\n",
            "   [ 7.49903648e-16 -5.47339587e-18 -5.20374258e-18  1.12083197e-02\n",
            "     7.03021251e-19 -4.72079797e-17]\n",
            "   [ 1.11539591e+00 -1.22985373e-02 -4.28354178e-03 -8.57663554e-17\n",
            "    -1.11141380e-17  4.10551212e-03]\n",
            "   [ 1.00123594e-16 -8.18581456e-19  2.00060773e-19  2.58840313e-17\n",
            "    -5.32182436e-17 -3.40435851e-18]\n",
            "   [-1.50218446e-15  3.48005682e-17 -5.76914755e-17 -1.03687761e-02\n",
            "    -8.21145299e-19 -2.70275201e-17]]\n",
            "\n",
            "  [[-3.88323261e-16  5.66984311e-17 -1.59943942e-17  1.84578444e-18\n",
            "     2.58536922e-02  1.09406915e-17]\n",
            "   [ 3.52870110e-16 -1.68689532e-17 -4.16289093e-17  3.13557961e-18\n",
            "     3.38081759e-02  5.32781046e-17]\n",
            "   [-7.23164203e-16  1.06974064e-17 -8.71646015e-18  1.20575403e-18\n",
            "     1.12083197e-02  3.21839715e-17]\n",
            "   [ 9.40581232e-17 -1.23339810e-18  9.44441752e-20  2.58851111e-17\n",
            "    -5.32163381e-17 -3.37840333e-18]\n",
            "   [ 1.11539591e+00 -1.22985373e-02 -4.28354178e-03  2.01360261e-17\n",
            "     4.04697185e-17  4.10551212e-03]\n",
            "   [ 4.11197955e-16 -4.53951805e-18  3.75183956e-17 -1.50278168e-18\n",
            "    -1.03687761e-02  2.56340630e-17]]\n",
            "\n",
            "  [[ 1.59790984e-01 -2.66865302e-02  6.40512562e-03 -3.59120826e-17\n",
            "     1.24559962e-17  2.11708054e-02]\n",
            "   [-2.42118626e-01  4.54101197e-03  1.65509332e-02 -8.74066404e-17\n",
            "     4.73584059e-17  8.74204002e-03]\n",
            "   [ 2.65843254e-01 -5.34487452e-03  2.07171914e-03 -6.27020064e-17\n",
            "     2.67155371e-17  4.81053325e-03]\n",
            "   [-1.48775154e-15  2.90575085e-17 -5.97666678e-17 -1.03687761e-02\n",
            "    -7.57781926e-19 -2.38508163e-17]\n",
            "   [ 4.06961607e-16 -2.14231200e-17  2.81168681e-17 -1.41381198e-18\n",
            "    -1.03687761e-02  3.27017641e-17]\n",
            "   [ 7.34481338e-01 -5.21692816e-03 -1.59999430e-02  8.16176132e-17\n",
            "    -3.39730589e-17 -8.28037465e-03]]]\n",
            "\n",
            "\n",
            " [[[-4.38465691e-01  1.06368185e+00  8.78369520e-02 -5.35910453e-16\n",
            "     3.43872131e-16 -2.42118626e-01]\n",
            "   [ 6.47204045e-02 -1.50469869e-02 -9.36020789e-03  4.28369574e-17\n",
            "    -1.43660655e-17  4.54101197e-03]\n",
            "   [ 1.84429506e-02 -1.72330627e-02  2.16452114e-02  6.44342499e-17\n",
            "    -4.19486399e-17  1.65509332e-02]\n",
            "   [-9.29058247e-17  6.98668380e-17  6.31475005e-17  3.38081759e-02\n",
            "     3.31790528e-18 -8.75405678e-17]\n",
            "   [ 5.67277859e-17 -1.53215091e-17 -4.85621115e-17  2.44672925e-18\n",
            "     3.38081759e-02  4.60827489e-17]\n",
            "   [-2.66865302e-02 -2.69295995e-03  2.03747148e-02 -1.08128859e-16\n",
            "     5.08621033e-17  8.74204002e-03]]\n",
            "\n",
            "  [[ 6.47204045e-02 -1.50469869e-02 -9.36020789e-03  4.35448404e-17\n",
            "    -1.79984331e-17  4.54101197e-03]\n",
            "   [-1.50469869e-02  7.82246148e-01 -2.82736344e-02  3.39353123e-17\n",
            "     2.20405365e-17 -1.20862414e-01]\n",
            "   [-9.36020789e-03 -2.82736344e-02  1.38461310e-01  8.60434409e-17\n",
            "    -6.25764749e-17  2.11790621e-02]\n",
            "   [ 4.13902300e-17  3.00566002e-17  8.79577253e-17  1.56942623e-01\n",
            "     1.38225127e-17 -1.20741051e-16]\n",
            "   [-1.76676497e-17  3.65177125e-17 -6.64746742e-17  1.02655892e-17\n",
            "     1.56942623e-01  1.12548069e-16]\n",
            "   [ 4.54101197e-03 -1.20862414e-01  2.11790621e-02 -1.15892170e-16\n",
            "     7.05562194e-17  8.19731113e-02]]\n",
            "\n",
            "  [[ 1.84429506e-02 -1.72330627e-02  2.16452114e-02  6.45625642e-17\n",
            "    -4.24615059e-17  1.65509332e-02]\n",
            "   [-9.36020789e-03 -2.82736344e-02  1.38461310e-01  8.88800264e-17\n",
            "    -5.92794260e-17  2.11790621e-02]\n",
            "   [-1.31679803e-02  7.08160916e-01  6.20624861e-02  4.88276296e-17\n",
            "    -4.34734101e-17 -5.09591903e-02]\n",
            "   [-9.87675418e-19  4.05327840e-16  1.57619048e-16  4.03035161e-02\n",
            "     8.25647277e-20 -3.98039270e-16]\n",
            "   [ 1.09584032e-17 -3.55268600e-16 -1.24140785e-16 -1.98663844e-19\n",
            "     4.03035161e-02  2.16461227e-16]\n",
            "   [-5.34487452e-03  1.01782960e-01  6.86961222e-02 -5.78121451e-16\n",
            "     2.77198720e-16 -6.06860239e-02]]\n",
            "\n",
            "  [[-9.28776972e-17  6.99681176e-17  6.37296043e-17  3.38081759e-02\n",
            "     2.71079825e-18 -8.64492136e-17]\n",
            "   [ 4.23244955e-17  3.23924272e-17  9.13590214e-17  1.56942623e-01\n",
            "     1.33234998e-17 -1.20900809e-16]\n",
            "   [-3.07253557e-18  3.86868712e-16  1.58661120e-16  4.03035161e-02\n",
            "    -4.00000394e-18 -3.84586644e-16]\n",
            "   [-1.22985373e-02  7.77829097e-01  4.78181725e-02 -6.77175431e-16\n",
            "     1.21910042e-16 -1.21924948e-01]\n",
            "   [-9.02654405e-19  6.56741872e-17 -7.14025665e-18  9.67825232e-17\n",
            "    -1.98919454e-16  3.34086186e-18]\n",
            "   [ 3.78240995e-17 -5.69887843e-16 -5.79114830e-16 -4.16508161e-02\n",
            "    -1.04841052e-19  3.30857934e-16]]\n",
            "\n",
            "  [[ 5.63209591e-17 -1.65136428e-17 -4.59433017e-17  2.66345601e-18\n",
            "     3.38081759e-02  4.61370440e-17]\n",
            "   [-1.60509292e-17  4.28619721e-17 -6.59536990e-17  1.07989333e-17\n",
            "     1.56942623e-01  1.04627263e-16]\n",
            "   [ 6.98774235e-18 -2.84684378e-16 -1.18414691e-16 -1.67273510e-18\n",
            "     4.03035161e-02  2.14740584e-16]\n",
            "   [-1.03302030e-18  6.01148233e-17 -8.79616741e-18  9.68652597e-17\n",
            "    -1.99007290e-16  4.09343394e-18]\n",
            "   [-1.22985373e-02  7.77829097e-01  4.78181725e-02 -2.93616935e-16\n",
            "     3.18588225e-16 -1.21924948e-01]\n",
            "   [-7.25902671e-18  7.63531205e-17  4.18745697e-16 -2.69827020e-18\n",
            "    -4.16508161e-02 -3.26965977e-16]]\n",
            "\n",
            "  [[-2.66865302e-02 -2.69295995e-03  2.03747148e-02 -1.09074335e-16\n",
            "     5.29549700e-17  8.74204002e-03]\n",
            "   [ 4.54101197e-03 -1.20862414e-01  2.11790621e-02 -1.27669563e-16\n",
            "     8.42130505e-17  8.19731113e-02]\n",
            "   [-5.34487452e-03  1.01782960e-01  6.86961222e-02 -5.73001239e-16\n",
            "     3.29943651e-16 -6.06860239e-02]\n",
            "   [ 3.10891974e-17 -5.72139020e-16 -5.77027032e-16 -4.16508161e-02\n",
            "    -1.21923342e-17  3.62230683e-16]\n",
            "   [-1.93102143e-17  7.76700134e-17  4.24052734e-16 -8.09144058e-18\n",
            "    -4.16508161e-02 -3.25314295e-16]\n",
            "   [-5.21692816e-03  6.12883783e-01 -9.90962252e-02  4.84790294e-16\n",
            "    -2.85955856e-16 -1.95498046e-02]]]\n",
            "\n",
            "\n",
            " [[[-1.51436760e-01  8.78369520e-02  9.90974245e-01  7.38970583e-16\n",
            "    -5.50416065e-16  2.65843254e-01]\n",
            "   [ 1.84429506e-02 -9.36020789e-03 -1.31679803e-02 -7.16785738e-18\n",
            "    -1.70018886e-17 -5.34487452e-03]\n",
            "   [ 2.46189939e-02  2.16452114e-02  8.70090353e-03 -7.60223159e-18\n",
            "    -1.73638175e-17  2.07171914e-03]\n",
            "   [ 1.06045893e-17  6.31516161e-17  6.93132294e-17  1.12083197e-02\n",
            "     5.36401908e-19 -6.24519954e-17]\n",
            "   [-1.65377232e-17 -4.35391111e-17 -4.03188552e-17  5.44671107e-19\n",
            "     1.12083197e-02  2.59803830e-17]\n",
            "   [ 6.40512562e-03  2.03747148e-02  1.41651559e-02 -4.77118497e-17\n",
            "     4.45946429e-17  4.81053325e-03]]\n",
            "\n",
            "  [[ 1.84429506e-02 -9.36020789e-03 -1.31679803e-02 -7.00325155e-18\n",
            "    -1.71569887e-17 -5.34487452e-03]\n",
            "   [-1.72330627e-02 -2.82736344e-02  7.08160916e-01  3.92718519e-16\n",
            "    -2.62930241e-16  1.01782960e-01]\n",
            "   [ 2.16452114e-02  1.38461310e-01  6.20624861e-02  1.56683619e-16\n",
            "    -1.42692749e-16  6.86961222e-02]\n",
            "   [ 6.28083358e-17  9.14271723e-17  5.48165483e-17  4.03035161e-02\n",
            "     2.21804381e-18 -5.84375100e-16]\n",
            "   [-4.16100701e-17 -3.87190986e-17 -4.78886701e-17 -9.10686851e-20\n",
            "     4.03035161e-02  3.28884158e-16]\n",
            "   [ 1.65509332e-02  2.11790621e-02 -5.09591903e-02 -3.86124719e-16\n",
            "     2.25780293e-16 -6.06860239e-02]]\n",
            "\n",
            "  [[ 2.46189939e-02  2.16452114e-02  8.70090353e-03 -7.69268693e-18\n",
            "    -1.73381153e-17  2.07171914e-03]\n",
            "   [ 2.16452114e-02  1.38461310e-01  6.20624861e-02  1.52032141e-16\n",
            "    -1.36832106e-16  6.86961222e-02]\n",
            "   [ 8.70090353e-03  6.20624861e-02  7.76790044e-01  3.58453331e-16\n",
            "    -3.78158704e-16  1.24533083e-01]\n",
            "   [-5.74666927e-18  1.51539285e-16  3.30697521e-16  5.15571898e-02\n",
            "     1.26305866e-17  1.64433354e-16]\n",
            "   [-3.66888414e-18 -1.37656233e-16 -3.74065012e-16  1.86281933e-17\n",
            "     5.15571898e-02 -2.64611408e-16]\n",
            "   [ 2.07171914e-03  6.86961222e-02  1.24533083e-01  1.39987226e-16\n",
            "    -2.37270313e-16  1.22969373e-01]]\n",
            "\n",
            "  [[ 1.09378157e-17  6.37267922e-17  6.96705071e-17  1.12083197e-02\n",
            "     7.86224323e-19 -6.34977229e-17]\n",
            "   [ 6.29176851e-17  9.34432656e-17  4.58916588e-17  4.03035161e-02\n",
            "     6.15329727e-19 -5.81776032e-16]\n",
            "   [-6.41110209e-18  1.50202531e-16  3.48946405e-16  5.15571898e-02\n",
            "     1.34855237e-17  1.64103518e-16]\n",
            "   [-4.28354178e-03  4.78181725e-02  7.25741700e-01  3.03308905e-16\n",
            "    -3.59885921e-16  1.36326286e-01]\n",
            "   [-2.36025624e-19 -2.46655254e-19  7.62539435e-17 -1.39198663e-17\n",
            "     1.10947810e-17  1.93435845e-17]\n",
            "   [-5.70771606e-17 -5.79516394e-16 -5.96490421e-16  7.58596288e-03\n",
            "     1.12904801e-17 -5.48426903e-16]]\n",
            "\n",
            "  [[-1.60895429e-17 -4.57644574e-17 -4.09584211e-17  5.04510494e-19\n",
            "     1.12083197e-02  2.46502030e-17]\n",
            "   [-4.25044827e-17 -6.32142324e-17 -3.71395061e-17 -1.21787130e-18\n",
            "     4.03035161e-02  3.22322730e-16]\n",
            "   [-6.01748664e-18 -1.36513698e-16 -3.95240946e-16  1.70449848e-17\n",
            "     5.15571898e-02 -2.54364688e-16]\n",
            "   [-3.44124037e-19 -1.42976612e-18  7.31435902e-17 -1.93597891e-17\n",
            "     1.08968764e-17  1.93896444e-17]\n",
            "   [-4.28354178e-03  4.78181725e-02  7.25741700e-01  3.85681937e-16\n",
            "    -3.31686842e-16  1.36326286e-01]\n",
            "   [ 3.78853210e-17  3.82071201e-16  1.59936272e-17  2.04007295e-17\n",
            "     7.58596288e-03  3.51136501e-16]]\n",
            "\n",
            "  [[ 6.40512562e-03  2.03747148e-02  1.41651559e-02 -4.60113353e-17\n",
            "     4.00279025e-17  4.81053325e-03]\n",
            "   [ 1.65509332e-02  2.11790621e-02 -5.09591903e-02 -3.70006558e-16\n",
            "     2.36072871e-16 -6.06860239e-02]\n",
            "   [ 2.07171914e-03  6.86961222e-02  1.24533083e-01  1.45390381e-16\n",
            "    -2.48960215e-16  1.22969373e-01]\n",
            "   [-5.98812615e-17 -5.84841519e-16 -5.77016480e-16  7.58596288e-03\n",
            "     1.23841504e-17 -5.43835630e-16]\n",
            "   [ 3.22917510e-17  3.77577540e-16  2.19281014e-17  1.60348913e-17\n",
            "     7.58596288e-03  4.20161122e-16]\n",
            "   [-1.59999430e-02 -9.90962252e-02  5.81960146e-01 -5.62833487e-17\n",
            "    -8.75384574e-17 -4.47663569e-02]]]\n",
            "\n",
            "\n",
            " [[[ 7.24475862e-16 -5.35265241e-16  7.41078058e-16  1.11539591e+00\n",
            "     8.34603647e-17 -1.49442502e-15]\n",
            "   [-9.29516294e-17  4.20103213e-17 -3.45086350e-18 -1.22985373e-02\n",
            "    -1.56950602e-18  3.51430540e-17]\n",
            "   [ 1.15143121e-17  6.36520659e-17 -5.04434616e-18 -4.28354178e-03\n",
            "     1.95927089e-19 -5.91974119e-17]\n",
            "   [ 2.58536922e-02  3.38081759e-02  1.12083197e-02 -8.58042392e-17\n",
            "     2.58958240e-17 -1.03687761e-02]\n",
            "   [ 1.86072683e-18  2.05834089e-18  6.58752888e-19 -1.11612335e-17\n",
            "    -5.32209955e-17 -5.44482693e-19]\n",
            "   [-3.66957602e-17 -1.07918652e-16 -5.06388803e-17  4.10551212e-03\n",
            "    -2.11554431e-18 -2.61415475e-17]]\n",
            "\n",
            "  [[-9.28990976e-17  4.19616222e-17 -3.18653490e-18 -1.22985373e-02\n",
            "    -1.52825484e-18  3.53025331e-17]\n",
            "   [ 7.02636125e-17  3.45958364e-17  3.82481017e-16  7.77829097e-01\n",
            "     5.60348158e-17 -5.76081635e-16]\n",
            "   [ 6.28423300e-17  8.65834970e-17  1.52507841e-16  4.78181725e-02\n",
            "     2.41684037e-18 -5.77716219e-16]\n",
            "   [ 3.38081759e-02  1.56942623e-01  4.03035161e-02 -6.72283252e-16\n",
            "     9.39618191e-17 -4.16508161e-02]\n",
            "   [ 2.44672925e-18  1.20003127e-17 -1.34681878e-18  1.54023838e-16\n",
            "    -1.99355746e-16 -3.78971831e-18]\n",
            "   [-8.84610036e-17 -1.19452093e-16 -3.81998706e-16 -1.21924948e-01\n",
            "    -1.77498652e-17  3.53036082e-16]]\n",
            "\n",
            "  [[ 1.10231426e-17  6.34469908e-17 -5.63557339e-18 -4.28354178e-03\n",
            "     9.74539644e-20 -5.93719809e-17]\n",
            "   [ 6.35493366e-17  8.38524128e-17  1.46681763e-16  4.78181725e-02\n",
            "     2.30603505e-18 -5.83417256e-16]\n",
            "   [ 6.85974454e-17  4.67167947e-17  3.58440649e-16  7.25741700e-01\n",
            "     7.02533307e-17 -5.85187162e-16]\n",
            "   [ 1.12083197e-02  4.03035161e-02  5.15571898e-02  3.19321188e-16\n",
            "    -1.02484976e-17  7.58596288e-03]\n",
            "   [ 6.56785337e-19  1.51341338e-18  2.32854515e-17 -3.30146328e-16\n",
            "     9.76853407e-18  7.17762804e-18]\n",
            "   [-6.27166816e-17 -5.79844033e-16  1.46838120e-16  1.36326286e-01\n",
            "     1.36742933e-17 -5.42577443e-16]]\n",
            "\n",
            "  [[ 2.58536922e-02  3.38081759e-02  1.12083197e-02 -8.58601376e-17\n",
            "     2.59044877e-17 -1.03687761e-02]\n",
            "   [ 3.38081759e-02  1.56942623e-01  4.03035161e-02 -6.75276028e-16\n",
            "     9.31642334e-17 -4.16508161e-02]\n",
            "   [ 1.12083197e-02  4.03035161e-02  5.15571898e-02  3.23522274e-16\n",
            "    -1.02897745e-17  7.58596288e-03]\n",
            "   [-8.58205414e-17 -6.75009085e-16  3.12854000e-16  8.80159093e-01\n",
            "     8.42291016e-17 -9.27091982e-16]\n",
            "   [ 2.58829698e-17  9.42710230e-17 -1.41010364e-17  8.53823739e-17\n",
            "     4.74444451e-02  3.38496549e-17]\n",
            "   [-1.03687761e-02 -4.16508161e-02  7.58596288e-03 -9.07169515e-16\n",
            "     3.42335299e-17  2.41407920e-02]]\n",
            "\n",
            "  [[ 2.08241613e-18  2.56250307e-18  6.15119958e-19 -1.10549859e-17\n",
            "    -5.31856276e-17 -7.48307767e-19]\n",
            "   [ 2.77800469e-18  1.35424709e-17 -1.09181164e-18  1.50389710e-16\n",
            "    -2.00170036e-16 -1.48681169e-18]\n",
            "   [ 7.80494642e-19  1.13257232e-18  2.08589133e-17 -3.55267056e-16\n",
            "     1.17540970e-17  6.41055966e-18]\n",
            "   [ 2.58866624e-17  9.47652487e-17 -1.69825817e-17  8.21472731e-17\n",
            "     4.74444451e-02  3.63894616e-17]\n",
            "   [ 2.01561056e-17 -2.93118299e-16  3.77927986e-16  7.85270203e-01\n",
            "     5.18800060e-17 -7.60522335e-16]\n",
            "   [-4.78337660e-19 -1.01461376e-17  2.36977206e-17  2.39363292e-16\n",
            "    -3.71429634e-17 -6.84286041e-18]]\n",
            "\n",
            "  [[-3.71748528e-17 -1.08621484e-16 -4.91836804e-17  4.10551212e-03\n",
            "    -1.62676099e-18 -2.71327645e-17]\n",
            "   [-8.74808004e-17 -1.29571907e-16 -3.69475554e-16 -1.21924948e-01\n",
            "    -2.04867605e-17  3.82797863e-16]\n",
            "   [-6.30385715e-17 -5.75563143e-16  1.40621257e-16  1.36326286e-01\n",
            "     2.25859893e-17 -5.43623274e-16]\n",
            "   [-1.03687761e-02 -4.16508161e-02  7.58596288e-03 -9.27546967e-16\n",
            "     3.51423788e-17  2.41407920e-02]\n",
            "   [-1.07107811e-19 -8.09144058e-18  1.80345785e-17  2.74003495e-16\n",
            "    -3.04026029e-17 -1.09362852e-17]\n",
            "   [ 8.19554995e-17  4.90786286e-16 -5.42114829e-17  5.54511357e-01\n",
            "     6.94557809e-17  2.26305674e-16]]]\n",
            "\n",
            "\n",
            " [[[-3.88795062e-16  3.45664726e-16 -6.62705861e-16  7.74099525e-17\n",
            "     1.11539591e+00  5.05031143e-16]\n",
            "   [ 5.72941872e-17 -1.93662279e-17 -5.13400802e-18  3.19364933e-18\n",
            "    -1.22985373e-02 -1.85646071e-17]\n",
            "   [-1.76934438e-17 -4.08646248e-17 -1.39402411e-17  1.89909584e-18\n",
            "    -4.28354178e-03  2.65875262e-17]\n",
            "   [ 2.43775176e-18  2.88628224e-18  4.28496148e-19  2.59123818e-17\n",
            "     2.01557202e-17 -9.13124488e-20]\n",
            "   [ 2.58536922e-02  3.38081759e-02  1.12083197e-02 -5.32355705e-17\n",
            "     4.02777935e-17 -1.03687761e-02]\n",
            "   [ 8.64796110e-18  5.34705436e-17  3.91538782e-17 -4.02345687e-18\n",
            "     4.10551212e-03  2.54922801e-17]]\n",
            "\n",
            "  [[ 5.68334214e-17 -1.92170895e-17 -5.32576584e-18  3.27726878e-18\n",
            "    -1.22985373e-02 -1.93954792e-17]\n",
            "   [-1.60125232e-17  3.31266296e-17 -2.34589169e-16  5.34409789e-17\n",
            "     7.77829097e-01  1.36691689e-16]\n",
            "   [-5.18481641e-17 -6.88754837e-17 -1.33302042e-16 -3.42752947e-18\n",
            "     4.78181725e-02  4.15904076e-16]\n",
            "   [ 3.74541266e-18  1.38225127e-17  2.65584034e-18  9.44605038e-17\n",
            "    -2.94146459e-16 -7.37863019e-18]\n",
            "   [ 3.38081759e-02  1.56942623e-01  4.03035161e-02 -2.01209972e-16\n",
            "     3.22006652e-16 -4.16508161e-02]\n",
            "   [ 4.46217295e-17  8.49057634e-17  2.35065739e-16 -1.30310904e-17\n",
            "    -1.21924948e-01 -2.38181109e-16]]\n",
            "\n",
            "  [[-1.54476228e-17 -4.26584721e-17 -1.44448025e-17  1.74553761e-18\n",
            "    -4.28354178e-03  2.85737500e-17]\n",
            "   [-5.24436864e-17 -6.05786138e-17 -1.23797605e-16 -4.81172175e-18\n",
            "     4.78181725e-02  4.23896285e-16]\n",
            "   [-4.58998027e-17 -4.11143814e-17 -4.23112641e-16  7.98465212e-17\n",
            "     7.25741700e-01 -7.51453852e-17]\n",
            "   [ 1.28248200e-18  9.51984295e-19  1.86774248e-17 -1.41460768e-17\n",
            "     4.02851317e-16  1.40249887e-17]\n",
            "   [ 1.12083197e-02  4.03035161e-02  5.15571898e-02  1.82239463e-17\n",
            "    -2.86230059e-16  7.58596288e-03]\n",
            "   [ 2.77445050e-17  3.13485460e-16 -2.40532470e-16  2.87371282e-17\n",
            "     1.36326286e-01  2.99776198e-16]]\n",
            "\n",
            "  [[ 2.15608302e-18  2.73102373e-18  7.85659519e-19  2.59268106e-17\n",
            "     2.02062083e-17  1.01364825e-19]\n",
            "   [ 3.38130870e-18  1.22573477e-17  6.20816682e-19  9.50015298e-17\n",
            "    -2.96326987e-16 -3.25795780e-18]\n",
            "   [ 9.53868053e-19 -3.09937720e-19  1.77899037e-17 -1.45113768e-17\n",
            "     3.96356120e-16  1.73727281e-17]\n",
            "   [-1.08729226e-17  1.48634095e-16 -3.64203140e-16  9.68037890e-17\n",
            "     7.85270203e-01  1.31637405e-16]\n",
            "   [-5.32188838e-17 -1.99048728e-16  1.33048747e-17  4.74444451e-02\n",
            "     5.23383920e-17 -3.06610756e-17]\n",
            "   [-8.28398597e-19 -3.90222552e-18  1.50208563e-17  2.87687967e-17\n",
            "    -7.80207325e-16 -9.92969176e-18]]\n",
            "\n",
            "  [[ 2.58536922e-02  3.38081759e-02  1.12083197e-02 -5.32228211e-17\n",
            "     4.03517584e-17 -1.03687761e-02]\n",
            "   [ 3.38081759e-02  1.56942623e-01  4.03035161e-02 -2.01718798e-16\n",
            "     3.17876585e-16 -4.16508161e-02]\n",
            "   [ 1.12083197e-02  4.03035161e-02  5.15571898e-02  1.96423502e-17\n",
            "    -3.15002488e-16  7.58596288e-03]\n",
            "   [-5.32178875e-17 -1.99221044e-16  1.34907303e-17  4.74444451e-02\n",
            "     4.43627029e-17 -3.15924331e-17]\n",
            "   [ 4.09038064e-17  3.32330136e-16 -3.41732843e-16  5.68124213e-17\n",
            "     8.80159093e-01  2.46015821e-16]\n",
            "   [-1.03687761e-02 -4.16508161e-02  7.58596288e-03 -2.88035592e-17\n",
            "     3.65658022e-16  2.41407920e-02]]\n",
            "\n",
            "  [[ 1.14842058e-17  5.29927789e-17  3.58342004e-17 -3.42725602e-18\n",
            "     4.10551212e-03  2.03369360e-17]\n",
            "   [ 4.15665940e-17  8.49275311e-17  2.27815319e-16 -9.92789810e-18\n",
            "    -1.21924948e-01 -3.10743814e-16]\n",
            "   [ 2.92299580e-17  3.23815862e-16 -2.63045587e-16  3.36246499e-17\n",
            "     1.36326286e-01  2.58863667e-16]\n",
            "   [-1.18786159e-18 -6.55242503e-18  1.61166738e-17  3.42755747e-17\n",
            "    -7.47036950e-16 -1.55101703e-18]\n",
            "   [-1.03687761e-02 -4.16508161e-02  7.58596288e-03 -2.71587433e-17\n",
            "     4.08433292e-16  2.41407920e-02]\n",
            "   [-3.42615966e-17 -3.06293651e-16 -1.01248680e-16  6.40743067e-17\n",
            "     5.54511357e-01 -4.68497042e-16]]]\n",
            "\n",
            "\n",
            " [[[ 1.59790984e-01 -2.42118626e-01  2.65843254e-01 -1.48686529e-15\n",
            "     5.20904810e-16  7.34481338e-01]\n",
            "   [-2.66865302e-02  4.54101197e-03 -5.34487452e-03  3.40261798e-17\n",
            "    -6.02251637e-18 -5.21692816e-03]\n",
            "   [ 6.40512562e-03  1.65509332e-02  2.07171914e-03 -5.86350711e-17\n",
            "     3.23960261e-17 -1.59999430e-02]\n",
            "   [-3.70913381e-17 -8.71058580e-17 -6.23934124e-17 -1.03687761e-02\n",
            "    -1.98189294e-19  8.12701986e-17]\n",
            "   [ 1.12890678e-17  4.95069033e-17  2.57878898e-17 -2.07898914e-19\n",
            "    -1.03687761e-02 -3.94212962e-17]\n",
            "   [ 2.11708054e-02  8.74204002e-03  4.81053325e-03 -2.67510170e-17\n",
            "     1.70428255e-17 -8.28037465e-03]]\n",
            "\n",
            "  [[-2.66865302e-02  4.54101197e-03 -5.34487452e-03  3.58459140e-17\n",
            "    -1.28374354e-17 -5.21692816e-03]\n",
            "   [-2.69295995e-03 -1.20862414e-01  1.01782960e-01 -5.87566509e-16\n",
            "     1.13943274e-16  6.12883783e-01]\n",
            "   [ 2.03747148e-02  2.11790621e-02  6.86961222e-02 -5.75977636e-16\n",
            "     3.91491020e-16 -9.90962252e-02]\n",
            "   [-1.09508905e-16 -1.28547307e-16 -5.77033393e-16 -4.16508161e-02\n",
            "    -7.39097716e-18  5.00200703e-16]\n",
            "   [ 5.50351126e-17  7.78535993e-17  3.02487357e-16 -3.78971831e-18\n",
            "    -4.16508161e-02 -2.77881015e-16]\n",
            "   [ 8.74204002e-03  8.19731113e-02 -6.06860239e-02  3.40040612e-16\n",
            "    -2.52832920e-16 -1.95498046e-02]]\n",
            "\n",
            "  [[ 6.40512562e-03  1.65509332e-02  2.07171914e-03 -5.84913792e-17\n",
            "     3.13781839e-17 -1.59999430e-02]\n",
            "   [ 2.03747148e-02  2.11790621e-02  6.86961222e-02 -5.86491116e-16\n",
            "     3.95341123e-16 -9.90962252e-02]\n",
            "   [ 1.41651559e-02 -5.09591903e-02  1.24533083e-01 -5.79867327e-16\n",
            "    -2.26023462e-17  5.81960146e-01]\n",
            "   [-5.01315007e-17 -3.75491981e-16  1.47176664e-16  7.58596288e-03\n",
            "     1.01131802e-17 -6.92595244e-17]\n",
            "   [ 2.06011814e-17  2.37459079e-16 -2.06147104e-16  3.93478963e-18\n",
            "     7.58596288e-03 -7.05959579e-17]\n",
            "   [ 4.81053325e-03 -6.06860239e-02  1.22969373e-01 -5.35940100e-16\n",
            "     4.18866785e-16 -4.47663569e-02]]\n",
            "\n",
            "  [[-3.63531909e-17 -8.66132640e-17 -6.33530617e-17 -1.03687761e-02\n",
            "    -2.58995681e-19  8.22187942e-17]\n",
            "   [-1.08938314e-16 -1.28760431e-16 -5.78190369e-16 -4.16508161e-02\n",
            "    -1.62892236e-18  4.87160546e-16]\n",
            "   [-4.90432803e-17 -3.65424365e-16  1.48221026e-16  7.58596288e-03\n",
            "     1.22987764e-17 -9.93756737e-17]\n",
            "   [ 4.10551212e-03 -1.21924948e-01  1.36326286e-01 -9.34464557e-16\n",
            "     2.02644474e-16  5.54511357e-01]\n",
            "   [-5.10629769e-19 -7.11277150e-18  9.47875378e-18  3.73191019e-17\n",
            "    -2.92824762e-17  8.25926222e-17]\n",
            "   [-2.77764952e-17  3.52475159e-16 -5.57150035e-16  2.41407920e-02\n",
            "    -2.99917387e-18  2.57969368e-16]]\n",
            "\n",
            "  [[ 1.00444442e-17  4.67272269e-17  2.52523223e-17 -3.63067255e-19\n",
            "    -1.03687761e-02 -3.59568419e-17]\n",
            "   [ 5.28651187e-17  9.49657800e-17  3.02638221e-16  8.96476866e-19\n",
            "    -4.16508161e-02 -3.14608810e-16]\n",
            "   [ 2.43490888e-17  2.40546102e-16 -1.97596648e-16  1.94276737e-18\n",
            "     7.58596288e-03 -8.70338454e-17]\n",
            "   [-4.96521805e-19 -8.04963039e-18  9.03892277e-18  3.88423191e-17\n",
            "    -2.89656540e-17  7.22640274e-17]\n",
            "   [ 4.10551212e-03 -1.21924948e-01  1.36326286e-01 -7.47555315e-16\n",
            "     3.52481656e-16  5.54511357e-01]\n",
            "   [ 6.57928849e-18 -2.85680996e-16  4.27031208e-16  2.47161660e-18\n",
            "     2.41407920e-02 -5.40232450e-16]]\n",
            "\n",
            "  [[ 2.11708054e-02  8.74204002e-03  4.81053325e-03 -2.78100192e-17\n",
            "     2.18003028e-17 -8.28037465e-03]\n",
            "   [ 8.74204002e-03  8.19731113e-02 -6.06860239e-02  3.59343363e-16\n",
            "    -2.94523526e-16 -1.95498046e-02]\n",
            "   [ 4.81053325e-03 -6.06860239e-02  1.22969373e-01 -5.65511256e-16\n",
            "     3.25606375e-16 -4.47663569e-02]\n",
            "   [-2.38230680e-17  3.72655487e-16 -5.61117015e-16  2.41407920e-02\n",
            "     1.05312602e-18  2.45325519e-16]\n",
            "   [ 1.77382953e-17 -3.05222293e-16  4.51956871e-16 -8.35854727e-18\n",
            "     2.41407920e-02 -7.19829152e-16]\n",
            "   [-8.28037465e-03 -1.95498046e-02 -4.47663569e-02  2.48789063e-16\n",
            "    -6.32392778e-16  7.04304126e-01]]]]\n"
          ]
        }
      ],
      "source": [
        "hamiltonian = qmolecule.hamiltonian\n",
        "coefficients = hamiltonian.electronic_integrals\n",
        "print(coefficients.alpha)\n",
        "second_q_op = hamiltonian.second_q_op()"
      ]
    },
    {
      "cell_type": "code",
      "execution_count": null,
      "metadata": {
        "id": "zLhtOziW8xCC"
      },
      "outputs": [],
      "source": [
        "mapper = JordanWignerMapper()\n",
        "converter = QubitConverter(mapper=mapper, two_qubit_reduction=False)\n",
        "qubit_op = converter.convert(second_q_op)"
      ]
    },
    {
      "cell_type": "markdown",
      "metadata": {
        "id": "rAQ3oSvbKFIU"
      },
      "source": [
        "We recommend to use classical minimum eigensolver to obtain a reference energy at this step. In case some of the classical minimum eigensolver donot directly gives nuclear repulsion energy, we give reference energies below: *Comupted Energy*: -78.75252123, *Nuclear Repulsion_energy*: 4.36537496654537. *Obtained Reference Ground State Energy*: -74.38714627."
      ]
    },
    {
      "cell_type": "code",
      "execution_count": null,
      "metadata": {
        "id": "gZQaJ8T441s7"
      },
      "outputs": [],
      "source": [
        "from qiskit.algorithms.minimum_eigensolvers import NumPyMinimumEigensolver\n",
        "from qiskit_nature.second_q.algorithms import GroundStateEigensolver\n",
        "\n",
        "solver = GroundStateEigensolver(\n",
        "    JordanWignerMapper(),\n",
        "    NumPyMinimumEigensolver(),\n",
        ")"
      ]
    },
    {
      "cell_type": "code",
      "execution_count": null,
      "metadata": {
        "colab": {
          "base_uri": "https://localhost:8080/"
        },
        "id": "CzsPX9Fg42zY",
        "outputId": "57ff628a-9fb8-479d-af26-fb644d807202"
      },
      "outputs": [
        {
          "name": "stdout",
          "output_type": "stream",
          "text": [
            "[-78.75252123]\n"
          ]
        }
      ],
      "source": [
        "result = solver.solve(qmolecule)\n",
        "print(result.computed_energies)"
      ]
    },
    {
      "cell_type": "code",
      "execution_count": null,
      "metadata": {
        "colab": {
          "base_uri": "https://localhost:8080/"
        },
        "id": "zP_A04usULdu",
        "outputId": "b09f2d22-4a51-4f60-a4f5-5d83b0b9477a"
      },
      "outputs": [
        {
          "name": "stdout",
          "output_type": "stream",
          "text": [
            "4.36537496654537\n"
          ]
        }
      ],
      "source": [
        "print(result.nuclear_repulsion_energy)"
      ]
    },
    {
      "cell_type": "code",
      "execution_count": null,
      "metadata": {
        "colab": {
          "base_uri": "https://localhost:8080/"
        },
        "id": "CjUk5SkJUQkn",
        "outputId": "925ff152-1a4f-4cb0-f3f2-cbe3798562be"
      },
      "outputs": [
        {
          "name": "stdout",
          "output_type": "stream",
          "text": [
            "[-74.38714627]\n"
          ]
        }
      ],
      "source": [
        "ref_value = result.computed_energies + result.nuclear_repulsion_energy\n",
        "print(ref_value)"
      ]
    },
    {
      "cell_type": "markdown",
      "metadata": {
        "id": "7FoppB2vK3Pb"
      },
      "source": [
        "## Construct Ansatz"
      ]
    },
    {
      "cell_type": "markdown",
      "metadata": {
        "id": "FXhkX--4LLjy"
      },
      "source": [
        "At this stage, you can implement various techniques to search good ansatz architecture which is important for variational quantum algorihms. Moreover, how to obtain a good initial state is a good topic to do research, we require participant to self-reflection there techniques (include the techniques for preprocessing ansatz or initial states) with maximum 10 points, and submit a short description for used techniques, we will have three graders to evaluate the techniques."
      ]
    },
    {
      "cell_type": "code",
      "execution_count": null,
      "metadata": {
        "id": "TR3cvipPWCQ5"
      },
      "outputs": [],
      "source": [
        "ansatz = UCCSD(\n",
        "    qmolecule.num_spatial_orbitals,\n",
        "    qmolecule.num_particles,\n",
        "    mapper,\n",
        "    initial_state=HartreeFock(\n",
        "        qmolecule.num_spatial_orbitals,\n",
        "        qmolecule.num_particles,\n",
        "        mapper,\n",
        "    ),\n",
        ")\n"
      ]
    },
    {
      "cell_type": "code",
      "execution_count": null,
      "metadata": {
        "id": "HAepMEuOyygR"
      },
      "outputs": [],
      "source": [
        "from qiskit_nature.second_q.algorithms import GroundStateEigensolver"
      ]
    },
    {
      "cell_type": "code",
      "execution_count": null,
      "metadata": {
        "id": "vzVDjGNVfWA8"
      },
      "outputs": [],
      "source": [
        "estimator = Estimator(\n",
        "    backend_options = {\n",
        "        'method': 'statevector',\n",
        "        'device': 'CPU'\n",
        "        # 'noise_model': noise_model\n",
        "    },\n",
        "    run_options = {\n",
        "        'shots': shot,\n",
        "        'seed': seeds,\n",
        "    },\n",
        "    transpile_options = {\n",
        "        'seed_transpiler':seed_transpiler\n",
        "    }\n",
        ")"
      ]
    },
    {
      "cell_type": "code",
      "execution_count": null,
      "metadata": {
        "id": "37uQ745tydW3"
      },
      "outputs": [],
      "source": [
        "vqe_solver = VQE(estimator, ansatz, SLSQP())\n",
        "vqe_solver.initial_point = [0.0] * ansatz.num_parameters"
      ]
    },
    {
      "cell_type": "code",
      "execution_count": null,
      "metadata": {
        "colab": {
          "base_uri": "https://localhost:8080/"
        },
        "id": "HiJ4ojaDy38R",
        "outputId": "5cdb012c-8e39-4112-9605-ae60821e7ca2"
      },
      "outputs": [
        {
          "name": "stdout",
          "output_type": "stream",
          "text": [
            "=== GROUND STATE ENERGY ===\n",
            " \n",
            "* Electronic ground state energy (Hartree): -57.121081083643\n",
            "  - computed part:      -57.121081083643\n",
            "~ Nuclear repulsion energy (Hartree): 4.365374966545\n",
            "> Total ground state energy (Hartree): -52.755706117097\n",
            " \n",
            "=== MEASURED OBSERVABLES ===\n",
            " \n",
            "  0:  # Particles: 8.008 S: 0.334 S^2: 0.445 M: -0.005\n",
            " \n",
            "=== DIPOLE MOMENTS ===\n",
            " \n",
            "~ Nuclear dipole moment (a.u.): [0.85037676  -0.28818323  -1.59757447]\n",
            " \n",
            "  0: \n",
            "  * Electronic dipole moment (a.u.): [1.104033287945  -0.383250343741  -2.067354598683]\n",
            "    - computed part:      [1.104033287945  -0.383250343741  -2.067354598683]\n",
            "  > Dipole moment (a.u.): [-0.253656527945  0.095067113741  0.469780128683]  Total: 0.542284758765\n",
            "                 (debye): [-0.644730523886  0.24163647805  1.194061871504]  Total: 1.378350241751\n",
            " \n"
          ]
        }
      ],
      "source": [
        "start_time = time.time()\n",
        "calc = GroundStateEigensolver(mapper, vqe_solver)\n",
        "res = calc.solve(qmolecule)\n",
        "end_time = time.time()\n",
        "print(res)"
      ]
    },
    {
      "cell_type": "markdown",
      "metadata": {
        "id": "vNP5HcDxlq-d"
      },
      "source": [
        "## Calculate the Accuracy (Most Important Metric)"
      ]
    },
    {
      "cell_type": "code",
      "execution_count": null,
      "metadata": {
        "colab": {
          "base_uri": "https://localhost:8080/"
        },
        "id": "qbP7CkZxlh8X",
        "outputId": "0d85b95a-4eba-4830-e98c-283a86f9f683"
      },
      "outputs": [
        {
          "name": "stdout",
          "output_type": "stream",
          "text": [
            "Error rate: 29.079540%\n"
          ]
        }
      ],
      "source": [
        "result = res.computed_energies + res.nuclear_repulsion_energy\n",
        "error_rate = abs(abs(ref_value - result) / ref_value * 100)\n",
        "print(\"Error rate: %f%%\" % (error_rate))"
      ]
    },
    {
      "cell_type": "markdown",
      "metadata": {
        "id": "hw8SxNyclYyT"
      },
      "source": [
        "## Obtain the Duration of Quantum Circuit"
      ]
    },
    {
      "cell_type": "code",
      "execution_count": null,
      "metadata": {
        "id": "3TBtAF24iuFD"
      },
      "outputs": [],
      "source": [
        "from qiskit.providers.fake_provider import *\n",
        "backend = FakeMontreal()"
      ]
    },
    {
      "cell_type": "code",
      "execution_count": null,
      "metadata": {
        "id": "_julUiabi5iI"
      },
      "outputs": [],
      "source": [
        "with pulse.build(backend) as my_program1:\n",
        "  pulse.call(ansatz)"
      ]
    },
    {
      "cell_type": "code",
      "execution_count": null,
      "metadata": {
        "colab": {
          "base_uri": "https://localhost:8080/"
        },
        "id": "E3jGzVpNkT00",
        "outputId": "01595668-7f90-44de-d2b5-cbac21f44497"
      },
      "outputs": [
        {
          "data": {
            "text/plain": [
              "20048096"
            ]
          },
          "execution_count": 42,
          "metadata": {},
          "output_type": "execute_result"
        }
      ],
      "source": [
        "my_program1.duration"
      ]
    }
  ],
  "metadata": {
    "colab": {
      "provenance": []
    },
    "kernelspec": {
      "display_name": "Python 3 (ipykernel)",
      "language": "python",
      "name": "python3"
    },
    "language_info": {
      "codemirror_mode": {
        "name": "ipython",
        "version": 3
      },
      "file_extension": ".py",
      "mimetype": "text/x-python",
      "name": "python",
      "nbconvert_exporter": "python",
      "pygments_lexer": "ipython3",
      "version": "3.9.7"
    }
  },
  "nbformat": 4,
  "nbformat_minor": 0
}
