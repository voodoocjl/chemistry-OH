{
 "cells": [
  {
   "cell_type": "code",
   "execution_count": null,
   "metadata": {},
   "outputs": [],
   "source": [
    "from sklearn.metrics import accuracy_score, f1_score\n",
    "from ChemModel import translator, quantum_net\n",
    "from Arguments import Arguments\n",
    "import random\n",
    "import matplotlib.pyplot as plt\n",
    "import csv, os\n",
    "import pennylane as qml\n",
    "from math import pi\n",
    "import torch.nn as nn\n",
    "import torch\n",
    "import pickle"
   ]
  },
  {
   "cell_type": "code",
   "execution_count": null,
   "metadata": {},
   "outputs": [],
   "source": [
    "def mask(net, positions = None):\n",
    "    if positions:\n",
    "         single = positions[0]\n",
    "         two = positions[1]\n",
    "         for i in single:\n",
    "              net[i] = 'n'\n",
    "         for i in two:\n",
    "              net[12 + i] = 'n'\n",
    "    else:\n",
    "        mask = [random.sample(range(1, 12), 4), random.sample(range(12, 24), 6)]\n",
    "        for i in range(2):\n",
    "            for j in range(len(mask[i])):\n",
    "                net[mask[i][j]] = 'n'\n",
    "    return net"
   ]
  },
  {
   "cell_type": "code",
   "execution_count": null,
   "metadata": {},
   "outputs": [],
   "source": [
    "net = [0, 0, 0, 0, 1, 0, 0, 1, 1, 0, 0, 1, 3, 7, 6, 3, 1, 1, 10, 6, 5, 6, 6, 7]\n",
    "net = mask(net, [[], [6, 10]])   # [single, two]\n",
    "print(net)\n",
    "design = translator(net)\n",
    "weight = nn.Parameter(torch.rand(design['layer_repe'] * 12 * 2))\n",
    "fig, _ = qml.draw_mpl(quantum_net, decimals=1, style=\"black_white\", fontsize=\"x-small\")(weight, design = design)\n",
    "# plt.savefig('draw/net.jpg')"
   ]
  },
  {
   "cell_type": "code",
   "execution_count": null,
   "metadata": {},
   "outputs": [],
   "source": [
    "import schemes_dist\n",
    "schemes_dist.run(net, 500)"
   ]
  },
  {
   "cell_type": "code",
   "execution_count": null,
   "metadata": {},
   "outputs": [],
   "source": [
    "\n",
    "filename = 'models/' + schemes_dist.net2str(net)\n",
    "with open('data/OHhamiltonian', 'rb') as outfile:\n",
    "    hamiltonian = pickle.load(outfile)\n",
    "\n",
    "with open(filename, 'rb') as outfile:\n",
    "    q_params = pickle.load(outfile)[1]\n",
    "dev = qml.device(\"qiskit.aer\", wires=12)\n",
    "@qml.qnode(dev)\n",
    "def cost_noise(theta):\n",
    "    quantum_net(theta, design)\n",
    "    return qml.expval(hamiltonian)    \n",
    "\n",
    "print(cost_noise(q_params)) # execute the circuit once to generate the qasm\n",
    "qasm = dev._circuit.qasm(formatted=True, filename = 'circuits/circuit_1Layer.qasm') # get the formatted qasm string"
   ]
  }
 ],
 "metadata": {
  "kernelspec": {
   "display_name": "vqa",
   "language": "python",
   "name": "python3"
  },
  "language_info": {
   "codemirror_mode": {
    "name": "ipython",
    "version": 3
   },
   "file_extension": ".py",
   "mimetype": "text/x-python",
   "name": "python",
   "nbconvert_exporter": "python",
   "pygments_lexer": "ipython3",
   "version": "3.11.4"
  },
  "orig_nbformat": 4
 },
 "nbformat": 4,
 "nbformat_minor": 2
}
