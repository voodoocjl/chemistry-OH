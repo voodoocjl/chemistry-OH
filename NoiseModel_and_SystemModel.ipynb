{
  "cells": [
    {
      "cell_type": "markdown",
      "metadata": {
        "id": "gj3jZbCBSn71"
      },
      "source": [
        "# Example Code for Implement the Noise Model"
      ]
    },
    {
      "cell_type": "markdown",
      "metadata": {
        "id": "54NH9S1vHrq8"
      },
      "source": [
        "## Basic Installation"
      ]
    },
    {
      "cell_type": "markdown",
      "metadata": {
        "id": "R0OZ3HZZS9Me"
      },
      "source": [
        "Install required package, we highly recommend participant to use qiskit platform, or at least participants can finish preprocessing at other platform and transfer the circuit to qiskit format, since our noise model is from IBM real machine backend and we restricted some algorithmic seeds which could be varied from different platform."
      ]
    },
    {
      "cell_type": "markdown",
      "metadata": {
        "id": "V30Z6_4G_Sto"
      },
      "source": [
        "# Implement Noise Model"
      ]
    },
    {
      "cell_type": "code",
      "execution_count": null,
      "metadata": {
        "id": "6yqcs2Aejtv7"
      },
      "outputs": [],
      "source": [
        "import numpy as np\n",
        "from qiskit import QuantumCircuit, transpile\n",
        "from qiskit.quantum_info import Kraus, SuperOp\n",
        "from qiskit_aer import AerSimulator\n",
        "from qiskit.tools.visualization import plot_histogram\n",
        "from qiskit_aer.noise import (NoiseModel, QuantumError, ReadoutError,\n",
        "    pauli_error, depolarizing_error, thermal_relaxation_error)\n",
        "import numpy as np\n",
        "# from qiskit.tools.jupyter import *\n",
        "import warnings\n",
        "warnings.filterwarnings('ignore')\n",
        "from qiskit import *\n",
        "import time\n",
        "from qiskit.providers.aer.noise import NoiseModel\n",
        "import qiskit.providers.aer.noise as noise\n",
        "from qiskit.utils import QuantumInstance, algorithm_globals"
      ]
    },
    {
      "cell_type": "code",
      "execution_count": null,
      "metadata": {
        "id": "BBENV0zBoJZG"
      },
      "outputs": [],
      "source": [
        "from qiskit.providers.fake_provider import *"
      ]
    },
    {
      "cell_type": "code",
      "execution_count": null,
      "metadata": {
        "id": "2CHRkoGUxv9D"
      },
      "outputs": [],
      "source": [
        "import pickle"
      ]
    },
    {
      "cell_type": "code",
      "execution_count": null,
      "metadata": {
        "id": "kHk6FZU1ypz2"
      },
      "outputs": [],
      "source": [
        "with open('NoiseModel/fakekolkata.pkl', 'rb') as file:\n",
        "    noise_model = pickle.load(file)"
      ]
    },
    {
      "cell_type": "code",
      "execution_count": null,
      "metadata": {},
      "outputs": [],
      "source": [
        "noise_model"
      ]
    },
    {
      "cell_type": "code",
      "execution_count": null,
      "metadata": {
        "id": "S21Wr7j2y9q4"
      },
      "outputs": [],
      "source": [
        "noise_model1 = noise.NoiseModel()"
      ]
    },
    {
      "cell_type": "code",
      "execution_count": null,
      "metadata": {},
      "outputs": [],
      "source": [
        "noise_model1"
      ]
    },
    {
      "cell_type": "code",
      "execution_count": null,
      "metadata": {
        "id": "16x2_Y4_yybr"
      },
      "outputs": [],
      "source": [
        "noise_modelreal = noise_model1.from_dict(noise_model)"
      ]
    },
    {
      "cell_type": "code",
      "execution_count": null,
      "metadata": {
        "colab": {
          "base_uri": "https://localhost:8080/"
        },
        "id": "VZXQhYfsz8tU",
        "outputId": "a125cd9f-e6f6-44e8-fe0f-2cf61b96f936"
      },
      "outputs": [],
      "source": [
        "noise_modelreal"
      ]
    },
    {
      "cell_type": "markdown",
      "metadata": {
        "id": "ZggP0wgpBwrD"
      },
      "source": [
        "Transfer the noise model to Pennylane: https://pennylane.ai/blog/2021/05/how-to-simulate-noise-with-pennylane/"
      ]
    },
    {
      "cell_type": "markdown",
      "metadata": {
        "id": "QRxsKX9zTc9g"
      },
      "source": [
        "Here we require paticipants to fix the algorithm seed in qiskit. *MUST* translate other format circuit to qiskit before any place need algorithm seed. And we give 20, 21, 30, 33, 36, 42, 43, 55, 67, 170 as set of seeds to test results on your side, and the result will be calculated as the average of results from some of those seeds with some hidden seeds. And please use shots as 6000."
      ]
    },
    {
      "cell_type": "code",
      "execution_count": null,
      "metadata": {
        "id": "_z5kT9vNSWus"
      },
      "outputs": [],
      "source": [
        "seeds = 170\n",
        "algorithm_globals.random_seed = seeds\n",
        "seed_transpiler = seeds\n",
        "shot = 6000"
      ]
    },
    {
      "cell_type": "markdown",
      "metadata": {
        "id": "vPEQx7yh_dDE"
      },
      "source": [
        "# Circuit Transpile and Execution"
      ]
    },
    {
      "cell_type": "code",
      "execution_count": null,
      "metadata": {
        "colab": {
          "base_uri": "https://localhost:8080/",
          "height": 171
        },
        "id": "lJ8S2H4F2uUl",
        "outputId": "efd7a7dd-cc85-4fc8-9fdc-9680c15ba8a7"
      },
      "outputs": [],
      "source": [
        "from qiskit.circuit.random import random_circuit\n",
        "from qiskit_aer.primitives import Estimator\n",
        "circuit = random_circuit(2, 2, seed=0).decompose(reps=1)\n",
        "circuit.draw()"
      ]
    },
    {
      "cell_type": "markdown",
      "metadata": {
        "id": "ailYlmao_jBV"
      },
      "source": [
        "Transpile the circuit based on given system model from IBMQ_Montreal."
      ]
    },
    {
      "cell_type": "code",
      "execution_count": null,
      "metadata": {
        "id": "SI275sum_rFg"
      },
      "outputs": [],
      "source": [
        "system_model = FakeMontreal()"
      ]
    },
    {
      "cell_type": "code",
      "execution_count": null,
      "metadata": {
        "id": "65IYl_7U_zOh"
      },
      "outputs": [],
      "source": [
        "transpiled_circuit = transpile(circuit, backend=system_model)"
      ]
    },
    {
      "cell_type": "code",
      "execution_count": null,
      "metadata": {
        "colab": {
          "base_uri": "https://localhost:8080/"
        },
        "id": "Ld6bpObI-l0n",
        "outputId": "18744ccd-0234-425a-e3cf-741452d8cad5"
      },
      "outputs": [],
      "source": [
        "from qiskit.quantum_info import SparsePauliOp\n",
        "\n",
        "observable = SparsePauliOp(\"IIIIIIIIIIIIIIIIIIIIIIIIIXZ\")\n",
        "print(f\">>> Observable: {observable.paulis}\")"
      ]
    },
    {
      "cell_type": "markdown",
      "metadata": {
        "id": "1UmOoQMZ_42L"
      },
      "source": [
        "Evaluate on the qiskit Estimator."
      ]
    },
    {
      "cell_type": "code",
      "execution_count": null,
      "metadata": {
        "id": "M6ACRPs4_GRi"
      },
      "outputs": [],
      "source": [
        "estimator = Estimator(\n",
        "    backend_options = {\n",
        "        'method': 'statevector',\n",
        "        'device': 'CPU',\n",
        "        'noise_model': noise_modelreal\n",
        "    },\n",
        "    run_options = {\n",
        "        'shots': shot,\n",
        "        'seed': seeds,\n",
        "    },\n",
        "    skip_transpilation=True\n",
        ")"
      ]
    },
    {
      "cell_type": "code",
      "execution_count": null,
      "metadata": {
        "colab": {
          "base_uri": "https://localhost:8080/"
        },
        "id": "2GFiw5SC-ouq",
        "outputId": "dcf84b52-9a53-4cb8-a7ea-b31aa9ed8630"
      },
      "outputs": [],
      "source": [
        "job = estimator.run(transpiled_circuit,observable)\n",
        "result = job.result()\n",
        "print(f\">>> {result}\")"
      ]
    },
    {
      "cell_type": "markdown",
      "metadata": {
        "id": "hw8SxNyclYyT"
      },
      "source": [
        "## Obtain the Duration of Quantum Circuit"
      ]
    },
    {
      "cell_type": "code",
      "execution_count": null,
      "metadata": {
        "id": "F-djGu7_BGiY"
      },
      "outputs": [],
      "source": [
        "from qiskit import pulse"
      ]
    },
    {
      "cell_type": "markdown",
      "metadata": {
        "id": "rvKZMDXUBLfA"
      },
      "source": [
        "Do remember to set the optimization_level to 0 if your circuit is already transpiled!!!"
      ]
    },
    {
      "cell_type": "code",
      "execution_count": null,
      "metadata": {
        "id": "_julUiabi5iI"
      },
      "outputs": [],
      "source": [
        "with pulse.build(system_model) as my_program1:\n",
        "  with pulse.transpiler_settings(optimization_level=0):\n",
        "    pulse.call(transpiled_circuit)"
      ]
    },
    {
      "cell_type": "code",
      "execution_count": null,
      "metadata": {
        "colab": {
          "base_uri": "https://localhost:8080/"
        },
        "id": "E3jGzVpNkT00",
        "outputId": "4cf0d4da-f938-49c0-a382-7d5253ba6152"
      },
      "outputs": [],
      "source": [
        "my_program1.duration"
      ]
    },
    {
      "cell_type": "markdown",
      "metadata": {
        "id": "wWbOzBXbBT_Y"
      },
      "source": [
        "# Save the Circuit in QASM Format"
      ]
    },
    {
      "cell_type": "code",
      "execution_count": null,
      "metadata": {
        "colab": {
          "base_uri": "https://localhost:8080/",
          "height": 55
        },
        "id": "0_4SdcY1BYMe",
        "outputId": "c1f652a2-7da4-4f2a-e616-a6ec1d5b2990"
      },
      "outputs": [],
      "source": [
        "transpiled_circuit.qasm()"
      ]
    },
    {
      "cell_type": "code",
      "execution_count": null,
      "metadata": {},
      "outputs": [],
      "source": []
    }
  ],
  "metadata": {
    "colab": {
      "provenance": []
    },
    "kernelspec": {
      "display_name": "Python 3 (ipykernel)",
      "language": "python",
      "name": "python3"
    },
    "language_info": {
      "codemirror_mode": {
        "name": "ipython",
        "version": 3
      },
      "file_extension": ".py",
      "mimetype": "text/x-python",
      "name": "python",
      "nbconvert_exporter": "python",
      "pygments_lexer": "ipython3",
      "version": "3.11.4"
    }
  },
  "nbformat": 4,
  "nbformat_minor": 0
}
